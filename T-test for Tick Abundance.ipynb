{
 "cells": [
  {
   "cell_type": "markdown",
   "metadata": {},
   "source": [
    "# T-test for Tick Abundance"
   ]
  },
  {
   "cell_type": "code",
   "execution_count": 1,
   "metadata": {
    "collapsed": true
   },
   "outputs": [],
   "source": [
    "import pandas as pd\n",
    "import numpy as np\n",
    "from scipy.stats import ttest_ind\n",
    "\n",
    "df = pd.read_csv(\"Tick_DB.csv\")\n",
    "df = df[df.t_adult != 0]"
   ]
  },
  {
   "cell_type": "markdown",
   "metadata": {},
   "source": [
    "# T-test to compare tick abundance between Caumsett State Park & Connetquot River State Park"
   ]
  },
  {
   "cell_type": "code",
   "execution_count": 2,
   "metadata": {},
   "outputs": [
    {
     "data": {
      "text/plain": [
       "Ttest_indResult(statistic=-0.58254704723026784, pvalue=0.56174043975163701)"
      ]
     },
     "execution_count": 2,
     "metadata": {},
     "output_type": "execute_result"
    }
   ],
   "source": [
    "# Sampling sites in Caumsett State Park\n",
    "CM = df[df.pid == 1]\n",
    "# Sampling sites in Connetquot River State Park\n",
    "CR = df[df.pid == 2]\n",
    "\n",
    "ttest_ind(np.log(CM.t_adult), np.log(CR.t_adult))"
   ]
  },
  {
   "cell_type": "markdown",
   "metadata": {},
   "source": [
    "# T-test to compare tick abundance between spring & fall"
   ]
  },
  {
   "cell_type": "code",
   "execution_count": 3,
   "metadata": {},
   "outputs": [
    {
     "data": {
      "text/plain": [
       "Ttest_indResult(statistic=0.68443612910354679, pvalue=0.49556177239979526)"
      ]
     },
     "execution_count": 3,
     "metadata": {},
     "output_type": "execute_result"
    }
   ],
   "source": [
    "# Tick survey in spring\n",
    "spring = df[((pd.to_datetime(df.date) > '2017-03-01') & (pd.to_datetime(df.date) < '2017-07-01')) | \n",
    "            ((pd.to_datetime(df.date) > '2018-03-01') & (pd.to_datetime(df.date) < '2018-07-01'))]\n",
    "# Tick survey in fall\n",
    "fall = df[((pd.to_datetime(df.date) > '2017-08-01') & (pd.to_datetime(df.date) < '2017-11-05'))]\n",
    "\n",
    "ttest_ind(np.log(spring.t_adult), np.log(fall.t_adult))"
   ]
  },
  {
   "cell_type": "code",
   "execution_count": 4,
   "metadata": {},
   "outputs": [
    {
     "data": {
      "text/plain": [
       "Ttest_indResult(statistic=-4.2525004594060132, pvalue=4.3744998850136412e-05)"
      ]
     },
     "execution_count": 4,
     "metadata": {},
     "output_type": "execute_result"
    }
   ],
   "source": [
    "# Tick survey in Rockefeller Park Preserve in late fall(2017-11-15)\n",
    "late_fall = df[df.pid == 3]\n",
    "# Tick survey in other time periods when temperatures are consistent\n",
    "non_late_fall = df[df.pid != 3]\n",
    "\n",
    "ttest_ind(np.log(late_fall.t_adult), np.log(non_late_fall.t_adult))"
   ]
  },
  {
   "cell_type": "markdown",
   "metadata": {},
   "source": [
    "# T-test to investigate the influence of Reservoir Host Habtat on tick abundance"
   ]
  },
  {
   "cell_type": "code",
   "execution_count": 5,
   "metadata": {},
   "outputs": [
    {
     "data": {
      "text/plain": [
       "Ttest_indResult(statistic=4.9384321086345464, pvalue=7.9682584814830291e-06)"
      ]
     },
     "execution_count": 5,
     "metadata": {},
     "output_type": "execute_result"
    }
   ],
   "source": [
    "# Sampling sites where reservoir host habitat is identified (not null)\n",
    "df_host = df[(df.host_hbt.notnull()) & (df.t_adult != 0)]\n",
    "\n",
    "ttest_ind(np.log(df_host.t_adult), df_host.host_hbt)"
   ]
  }
 ],
 "metadata": {
  "kernelspec": {
   "display_name": "Python 3",
   "language": "python",
   "name": "python3"
  },
  "language_info": {
   "codemirror_mode": {
    "name": "ipython",
    "version": 3
   },
   "file_extension": ".py",
   "mimetype": "text/x-python",
   "name": "python",
   "nbconvert_exporter": "python",
   "pygments_lexer": "ipython3",
   "version": "3.5.3"
  }
 },
 "nbformat": 4,
 "nbformat_minor": 2
}
