{
 "cells": [
  {
   "cell_type": "markdown",
   "metadata": {},
   "source": [
    "# 1. Load Modules"
   ]
  },
  {
   "cell_type": "code",
   "execution_count": 1,
   "metadata": {},
   "outputs": [
    {
     "name": "stderr",
     "output_type": "stream",
     "text": [
      "C:\\Users\\chong\\Anaconda3\\envs\\tensorflow\\lib\\site-packages\\statsmodels\\compat\\pandas.py:56: FutureWarning: The pandas.core.datetools module is deprecated and will be removed in a future version. Please use the pandas.tseries module instead.\n",
      "  from pandas.core import datetools\n"
     ]
    }
   ],
   "source": [
    "import numpy as np\n",
    "import pandas as pd\n",
    "from pandas import DataFrame\n",
    "import matplotlib.pyplot as plt\n",
    "import statsmodels.api as sm\n",
    "from sklearn.preprocessing import scale\n",
    "from statsmodels.multivariate.pca import PCA\n",
    "from statsmodels.stats.outliers_influence import variance_inflation_factor"
   ]
  },
  {
   "cell_type": "markdown",
   "metadata": {},
   "source": [
    "# 2. Load Data & Pre-processing"
   ]
  },
  {
   "cell_type": "code",
   "execution_count": 2,
   "metadata": {
    "collapsed": true
   },
   "outputs": [],
   "source": [
    "tick_df = pd.read_csv(\"Tick_DB.csv\")\n",
    "tick_df = tick_df.drop([\"pid\", \"lat\", \"lat\", \"fid\"], axis=1)\n",
    "tick_df = tick_df[tick_df.temp.notnull()]"
   ]
  },
  {
   "cell_type": "markdown",
   "metadata": {},
   "source": [
    "# 3. Define Functions for Multiple Linear Regression"
   ]
  },
  {
   "cell_type": "code",
   "execution_count": 3,
   "metadata": {
    "collapsed": true
   },
   "outputs": [],
   "source": [
    "def Var_Builder(df, dep_y, ind_x):\n",
    "    y = df[dep_y]\n",
    "    X = df[ind_x]\n",
    "    return(y, X)\n",
    "\n",
    "def MLR(dep, ind):\n",
    "    # Fit a MLR Model\n",
    "    y = dep\n",
    "    X = sm.add_constant(ind)\n",
    "    model = sm.OLS(y, X).fit()\n",
    "    # Produce R-square\n",
    "    r2 = model.rsquared\n",
    "    adj_r2 = model.rsquared_adj\n",
    "    # Produce P-value\n",
    "    pvalue = model.pvalues\n",
    "    # Produce Parameters\n",
    "    params = model.params\n",
    "    # Produce VIF\n",
    "    vif = DataFrame(0, index = ind.columns, columns=[\"Tolerance\", \"VIF\"])\n",
    "    for var in vif.index:\n",
    "        try:\n",
    "            vif.loc[var, \"VIF\"] = variance_inflation_factor(scale(ind), np.where(vif.index == var)[0])\n",
    "        except:\n",
    "            vif.loc[var, \"VIF\"] = 1.0\n",
    "    vif[\"Tolerance\"] = 1 / vif[\"VIF\"]\n",
    "    print(model.summary())\n",
    "    return(vif)"
   ]
  },
  {
   "cell_type": "markdown",
   "metadata": {},
   "source": [
    "# 4. Define Subsets for Scenarios"
   ]
  },
  {
   "cell_type": "code",
   "execution_count": 4,
   "metadata": {
    "collapsed": true
   },
   "outputs": [],
   "source": [
    "# Scenario 1\n",
    "S1 = tick_df\n",
    "\n",
    "# Scenario 2\n",
    "tick_df.date = pd.to_datetime(tick_df.date)\n",
    "mask_17 = ('2017-08-01' > tick_df.date) & (tick_df.date > '2017-03-01') # Spring in 2017\n",
    "mask_18 = ('2018-08-01' > tick_df.date) & (tick_df.date > '2018-03-01') # Spring in 2018\n",
    "S2 = tick_df[mask_17 | mask_18]\n",
    "\n",
    "# Scenario 3\n",
    "S3 = S2[S2.host_hbt.notnull()]"
   ]
  },
  {
   "cell_type": "markdown",
   "metadata": {},
   "source": [
    "# 5. Apply MLR to S1, S2, S3 and Print Calibration Results"
   ]
  },
  {
   "cell_type": "code",
   "execution_count": 5,
   "metadata": {},
   "outputs": [
    {
     "name": "stdout",
     "output_type": "stream",
     "text": [
      "                            OLS Regression Results                            \n",
      "==============================================================================\n",
      "Dep. Variable:                t_adult   R-squared:                       0.143\n",
      "Model:                            OLS   Adj. R-squared:                  0.086\n",
      "Method:                 Least Squares   F-statistic:                     2.479\n",
      "Date:                Thu, 09 Aug 2018   Prob (F-statistic):             0.0393\n",
      "Time:                        15:51:20   Log-Likelihood:                -288.05\n",
      "No. Observations:                  80   AIC:                             588.1\n",
      "Df Residuals:                      74   BIC:                             602.4\n",
      "Df Model:                           5                                         \n",
      "Covariance Type:            nonrobust                                         \n",
      "==============================================================================\n",
      "                 coef    std err          t      P>|t|      [0.025      0.975]\n",
      "------------------------------------------------------------------------------\n",
      "const        -31.5494     33.856     -0.932      0.354     -99.009      35.911\n",
      "temp           0.3719      0.316      1.178      0.243      -0.257       1.001\n",
      "rh             0.0845      0.213      0.396      0.693      -0.340       0.509\n",
      "elv            0.1289      0.200      0.646      0.521      -0.269       0.527\n",
      "solar          0.0006      0.002      0.293      0.771      -0.003       0.004\n",
      "ndvi          19.8059     10.918      1.814      0.074      -1.949      41.561\n",
      "==============================================================================\n",
      "Omnibus:                      102.210   Durbin-Watson:                   1.241\n",
      "Prob(Omnibus):                  0.000   Jarque-Bera (JB):             1843.437\n",
      "Skew:                           4.014   Prob(JB):                         0.00\n",
      "Kurtosis:                      25.104   Cond. No.                     9.32e+04\n",
      "==============================================================================\n",
      "\n",
      "Warnings:\n",
      "[1] Standard Errors assume that the covariance matrix of the errors is correctly specified.\n",
      "[2] The condition number is large, 9.32e+04. This might indicate that there are\n",
      "strong multicollinearity or other numerical problems.\n"
     ]
    },
    {
     "data": {
      "text/html": [
       "<div>\n",
       "<style>\n",
       "    .dataframe thead tr:only-child th {\n",
       "        text-align: right;\n",
       "    }\n",
       "\n",
       "    .dataframe thead th {\n",
       "        text-align: left;\n",
       "    }\n",
       "\n",
       "    .dataframe tbody tr th {\n",
       "        vertical-align: top;\n",
       "    }\n",
       "</style>\n",
       "<table border=\"1\" class=\"dataframe\">\n",
       "  <thead>\n",
       "    <tr style=\"text-align: right;\">\n",
       "      <th></th>\n",
       "      <th>Tolerance</th>\n",
       "      <th>VIF</th>\n",
       "    </tr>\n",
       "  </thead>\n",
       "  <tbody>\n",
       "    <tr>\n",
       "      <th>temp</th>\n",
       "      <td>0.020570</td>\n",
       "      <td>48.613611</td>\n",
       "    </tr>\n",
       "    <tr>\n",
       "      <th>rh</th>\n",
       "      <td>0.175680</td>\n",
       "      <td>5.692158</td>\n",
       "    </tr>\n",
       "    <tr>\n",
       "      <th>elv</th>\n",
       "      <td>0.019437</td>\n",
       "      <td>51.447012</td>\n",
       "    </tr>\n",
       "    <tr>\n",
       "      <th>solar</th>\n",
       "      <td>0.091647</td>\n",
       "      <td>10.911415</td>\n",
       "    </tr>\n",
       "    <tr>\n",
       "      <th>ndvi</th>\n",
       "      <td>0.415920</td>\n",
       "      <td>2.404308</td>\n",
       "    </tr>\n",
       "  </tbody>\n",
       "</table>\n",
       "</div>"
      ],
      "text/plain": [
       "       Tolerance        VIF\n",
       "temp    0.020570  48.613611\n",
       "rh      0.175680   5.692158\n",
       "elv     0.019437  51.447012\n",
       "solar   0.091647  10.911415\n",
       "ndvi    0.415920   2.404308"
      ]
     },
     "execution_count": 5,
     "metadata": {},
     "output_type": "execute_result"
    }
   ],
   "source": [
    "# Scenario 1\n",
    "res = [\"t_adult\"]\n",
    "ind = [\"temp\", \"rh\", \"elv\", \"solar\", \"ndvi\"]\n",
    "\n",
    "Y1, X1 = Var_Builder(S1, res, ind)\n",
    "MLR(Y1, X1)"
   ]
  },
  {
   "cell_type": "code",
   "execution_count": 6,
   "metadata": {},
   "outputs": [
    {
     "name": "stdout",
     "output_type": "stream",
     "text": [
      "                            OLS Regression Results                            \n",
      "==============================================================================\n",
      "Dep. Variable:                t_adult   R-squared:                       0.107\n",
      "Model:                            OLS   Adj. R-squared:                 -0.011\n",
      "Method:                 Least Squares   F-statistic:                    0.9101\n",
      "Date:                Thu, 09 Aug 2018   Prob (F-statistic):              0.485\n",
      "Time:                        15:51:20   Log-Likelihood:                -169.62\n",
      "No. Observations:                  44   AIC:                             351.2\n",
      "Df Residuals:                      38   BIC:                             362.0\n",
      "Df Model:                           5                                         \n",
      "Covariance Type:            nonrobust                                         \n",
      "==============================================================================\n",
      "                 coef    std err          t      P>|t|      [0.025      0.975]\n",
      "------------------------------------------------------------------------------\n",
      "const          1.5909     67.861      0.023      0.981    -135.787     138.968\n",
      "temp           0.0626      0.619      0.101      0.920      -1.191       1.316\n",
      "rh            -0.0280      0.411     -0.068      0.946      -0.860       0.804\n",
      "elv            0.1422      0.353      0.402      0.690      -0.573       0.858\n",
      "solar         -0.0016      0.003     -0.555      0.582      -0.008       0.004\n",
      "ndvi          28.4310     16.481      1.725      0.093      -4.933      61.795\n",
      "==============================================================================\n",
      "Omnibus:                       58.347   Durbin-Watson:                   1.289\n",
      "Prob(Omnibus):                  0.000   Jarque-Bera (JB):              389.600\n",
      "Skew:                           3.298   Prob(JB):                     2.51e-85\n",
      "Kurtosis:                      16.000   Cond. No.                     1.40e+05\n",
      "==============================================================================\n",
      "\n",
      "Warnings:\n",
      "[1] Standard Errors assume that the covariance matrix of the errors is correctly specified.\n",
      "[2] The condition number is large, 1.4e+05. This might indicate that there are\n",
      "strong multicollinearity or other numerical problems.\n"
     ]
    },
    {
     "data": {
      "text/html": [
       "<div>\n",
       "<style>\n",
       "    .dataframe thead tr:only-child th {\n",
       "        text-align: right;\n",
       "    }\n",
       "\n",
       "    .dataframe thead th {\n",
       "        text-align: left;\n",
       "    }\n",
       "\n",
       "    .dataframe tbody tr th {\n",
       "        vertical-align: top;\n",
       "    }\n",
       "</style>\n",
       "<table border=\"1\" class=\"dataframe\">\n",
       "  <thead>\n",
       "    <tr style=\"text-align: right;\">\n",
       "      <th></th>\n",
       "      <th>Tolerance</th>\n",
       "      <th>VIF</th>\n",
       "    </tr>\n",
       "  </thead>\n",
       "  <tbody>\n",
       "    <tr>\n",
       "      <th>temp</th>\n",
       "      <td>0.178339</td>\n",
       "      <td>5.607289</td>\n",
       "    </tr>\n",
       "    <tr>\n",
       "      <th>rh</th>\n",
       "      <td>0.093630</td>\n",
       "      <td>10.680376</td>\n",
       "    </tr>\n",
       "    <tr>\n",
       "      <th>elv</th>\n",
       "      <td>0.124140</td>\n",
       "      <td>8.055416</td>\n",
       "    </tr>\n",
       "    <tr>\n",
       "      <th>solar</th>\n",
       "      <td>0.872990</td>\n",
       "      <td>1.145489</td>\n",
       "    </tr>\n",
       "    <tr>\n",
       "      <th>ndvi</th>\n",
       "      <td>0.572293</td>\n",
       "      <td>1.747358</td>\n",
       "    </tr>\n",
       "  </tbody>\n",
       "</table>\n",
       "</div>"
      ],
      "text/plain": [
       "       Tolerance        VIF\n",
       "temp    0.178339   5.607289\n",
       "rh      0.093630  10.680376\n",
       "elv     0.124140   8.055416\n",
       "solar   0.872990   1.145489\n",
       "ndvi    0.572293   1.747358"
      ]
     },
     "execution_count": 6,
     "metadata": {},
     "output_type": "execute_result"
    }
   ],
   "source": [
    "# Scenario 2\n",
    "res = [\"t_adult\"]\n",
    "ind = [\"temp\", \"rh\", \"elv\", \"solar\", \"ndvi\"]\n",
    "\n",
    "Y2, X2 = Var_Builder(S2, res, ind)\n",
    "MLR(Y2, X2)"
   ]
  },
  {
   "cell_type": "code",
   "execution_count": 7,
   "metadata": {},
   "outputs": [
    {
     "name": "stdout",
     "output_type": "stream",
     "text": [
      "                            OLS Regression Results                            \n",
      "==============================================================================\n",
      "Dep. Variable:                t_adult   R-squared:                       0.204\n",
      "Model:                            OLS   Adj. R-squared:                  0.021\n",
      "Method:                 Least Squares   F-statistic:                     1.112\n",
      "Date:                Thu, 09 Aug 2018   Prob (F-statistic):              0.382\n",
      "Time:                        15:51:20   Log-Likelihood:                -129.35\n",
      "No. Observations:                  33   AIC:                             272.7\n",
      "Df Residuals:                      26   BIC:                             283.2\n",
      "Df Model:                           6                                         \n",
      "Covariance Type:            nonrobust                                         \n",
      "==============================================================================\n",
      "                 coef    std err          t      P>|t|      [0.025      0.975]\n",
      "------------------------------------------------------------------------------\n",
      "const        -23.7033     96.716     -0.245      0.808    -222.505     175.099\n",
      "temp           0.3656      0.940      0.389      0.701      -1.567       2.298\n",
      "rh            -0.0004      0.554     -0.001      0.999      -1.139       1.138\n",
      "elv            0.0276      0.449      0.061      0.951      -0.895       0.950\n",
      "solar         -0.0018      0.004     -0.493      0.626      -0.009       0.006\n",
      "ndvi          25.1547     23.415      1.074      0.293     -22.975      73.284\n",
      "host_hbt       8.2638      5.487      1.506      0.144      -3.014      19.542\n",
      "==============================================================================\n",
      "Omnibus:                       41.044   Durbin-Watson:                   1.357\n",
      "Prob(Omnibus):                  0.000   Jarque-Bera (JB):              148.968\n",
      "Skew:                           2.704   Prob(JB):                     4.49e-33\n",
      "Kurtosis:                      11.894   Cond. No.                     1.58e+05\n",
      "==============================================================================\n",
      "\n",
      "Warnings:\n",
      "[1] Standard Errors assume that the covariance matrix of the errors is correctly specified.\n",
      "[2] The condition number is large, 1.58e+05. This might indicate that there are\n",
      "strong multicollinearity or other numerical problems.\n"
     ]
    },
    {
     "data": {
      "text/html": [
       "<div>\n",
       "<style>\n",
       "    .dataframe thead tr:only-child th {\n",
       "        text-align: right;\n",
       "    }\n",
       "\n",
       "    .dataframe thead th {\n",
       "        text-align: left;\n",
       "    }\n",
       "\n",
       "    .dataframe tbody tr th {\n",
       "        vertical-align: top;\n",
       "    }\n",
       "</style>\n",
       "<table border=\"1\" class=\"dataframe\">\n",
       "  <thead>\n",
       "    <tr style=\"text-align: right;\">\n",
       "      <th></th>\n",
       "      <th>Tolerance</th>\n",
       "      <th>VIF</th>\n",
       "    </tr>\n",
       "  </thead>\n",
       "  <tbody>\n",
       "    <tr>\n",
       "      <th>temp</th>\n",
       "      <td>0.229641</td>\n",
       "      <td>4.354618</td>\n",
       "    </tr>\n",
       "    <tr>\n",
       "      <th>rh</th>\n",
       "      <td>0.066261</td>\n",
       "      <td>15.091894</td>\n",
       "    </tr>\n",
       "    <tr>\n",
       "      <th>elv</th>\n",
       "      <td>0.147290</td>\n",
       "      <td>6.789344</td>\n",
       "    </tr>\n",
       "    <tr>\n",
       "      <th>solar</th>\n",
       "      <td>0.924763</td>\n",
       "      <td>1.081358</td>\n",
       "    </tr>\n",
       "    <tr>\n",
       "      <th>ndvi</th>\n",
       "      <td>0.421033</td>\n",
       "      <td>2.375113</td>\n",
       "    </tr>\n",
       "    <tr>\n",
       "      <th>host_hbt</th>\n",
       "      <td>0.760366</td>\n",
       "      <td>1.315156</td>\n",
       "    </tr>\n",
       "  </tbody>\n",
       "</table>\n",
       "</div>"
      ],
      "text/plain": [
       "          Tolerance        VIF\n",
       "temp       0.229641   4.354618\n",
       "rh         0.066261  15.091894\n",
       "elv        0.147290   6.789344\n",
       "solar      0.924763   1.081358\n",
       "ndvi       0.421033   2.375113\n",
       "host_hbt   0.760366   1.315156"
      ]
     },
     "execution_count": 7,
     "metadata": {},
     "output_type": "execute_result"
    }
   ],
   "source": [
    "# Scenario 3\n",
    "res = [\"t_adult\"]\n",
    "ind = [\"temp\", \"rh\", \"elv\", \"solar\", \"ndvi\", \"host_hbt\"]\n",
    "\n",
    "Y3, X3 = Var_Builder(S3, res, ind)\n",
    "MLR(Y3, X3)"
   ]
  }
 ],
 "metadata": {
  "kernelspec": {
   "display_name": "Python 3",
   "language": "python",
   "name": "python3"
  },
  "language_info": {
   "codemirror_mode": {
    "name": "ipython",
    "version": 3
   },
   "file_extension": ".py",
   "mimetype": "text/x-python",
   "name": "python",
   "nbconvert_exporter": "python",
   "pygments_lexer": "ipython3",
   "version": "3.5.3"
  }
 },
 "nbformat": 4,
 "nbformat_minor": 2
}
